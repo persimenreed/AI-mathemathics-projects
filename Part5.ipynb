{
 "cells": [
  {
   "cell_type": "markdown",
   "id": "7e4e3226-9437-491f-8dae-2498ed2bac49",
   "metadata": {},
   "source": [
    "## Library\n",
    "Using numpy to provide the wanted values"
   ]
  },
  {
   "cell_type": "code",
   "execution_count": 94,
   "id": "e19ac669-f64c-4bb1-9243-6525b3eff379",
   "metadata": {},
   "outputs": [],
   "source": [
    "import numpy as np"
   ]
  },
  {
   "cell_type": "markdown",
   "id": "e8059953-0580-41b8-9a80-001436ba43d1",
   "metadata": {},
   "source": [
    "## Task 2a\n",
    "Defining the matrix. First output is eigenvalues, and the second output is eigenvectors."
   ]
  },
  {
   "cell_type": "code",
   "execution_count": 95,
   "id": "45556272-e54a-4d3f-88e9-c6832c897eab",
   "metadata": {},
   "outputs": [
    {
     "name": "stdout",
     "output_type": "stream",
     "text": [
      "Eigenvalues:\n",
      " [3.41421356 2.         0.58578644]\n",
      "Eigenvectors:\n",
      " [[-5.00000000e-01 -7.07106781e-01  5.00000000e-01]\n",
      " [ 7.07106781e-01  4.05405432e-16  7.07106781e-01]\n",
      " [-5.00000000e-01  7.07106781e-01  5.00000000e-01]]\n"
     ]
    }
   ],
   "source": [
    "A = [[2,-1,0],[-1,2,-1],[0,-1,2]]\n",
    "eigenvalues_A, eigenvectors_A = np.linalg.eig(A)\n",
    "\n",
    "print('Eigenvalues:\\n', eigenvalues_A)\n",
    "print('Eigenvectors:\\n', eigenvectors_A)"
   ]
  },
  {
   "cell_type": "markdown",
   "id": "cbcadd1e-c8cc-4e13-a7dc-855bd6e07bb7",
   "metadata": {},
   "source": [
    "## Task 2b\n",
    "Defining the second matrix"
   ]
  },
  {
   "cell_type": "code",
   "execution_count": 103,
   "id": "6eb59760-98b3-4935-af83-6a62eb1cc55f",
   "metadata": {},
   "outputs": [
    {
     "name": "stdout",
     "output_type": "stream",
     "text": [
      "Eigenvalues:\n",
      " [ 4.31662479e+00 -2.31662479e+00  1.93041509e-17]\n",
      "Eigenvectors:\n",
      " [[ 0.58428153  0.73595785  0.40824829]\n",
      " [ 0.80407569 -0.38198836 -0.81649658]\n",
      " [ 0.10989708 -0.55897311  0.40824829]]\n"
     ]
    }
   ],
   "source": [
    "B = [[1,2,3],[3,2,1],[1,0,-1]]\n",
    "eigenvalues_B, eigenvectors_B = np.linalg.eig(B)\n",
    "\n",
    "print('Eigenvalues:\\n', eigenvalues_B)\n",
    "print('Eigenvectors:\\n', eigenvectors_B)"
   ]
  },
  {
   "cell_type": "markdown",
   "id": "abbe218e-5ec0-436c-9e13-1b421e8e8227",
   "metadata": {},
   "source": [
    "#### Verification of values"
   ]
  },
  {
   "cell_type": "code",
   "execution_count": 104,
   "id": "acdc6571-9cc1-4428-bc93-1d2518cbea2e",
   "metadata": {},
   "outputs": [
    {
     "name": "stdout",
     "output_type": "stream",
     "text": [
      "Vector 1 correct\n",
      "Vector 2 correct\n",
      "Vector 3 correct\n"
     ]
    }
   ],
   "source": [
    "lambda_1 = eigenvalues_B[0]\n",
    "lambda_2 = eigenvalues_B[1]\n",
    "lambda_3 = eigenvalues_B[2]\n",
    "vector_1 = eigenvectors_B[:, 0]\n",
    "vector_2 = eigenvectors_B[:, 1]\n",
    "vector_3 = eigenvectors_B[:, 2]\n",
    "\n",
    "# Checking eigenvectors\n",
    "if np.allclose(np.dot(B, vector_1), lambda_1 * vector_1):\n",
    "    print('Vector 1 correct')\n",
    "if np.allclose(np.dot(B, vector_2), lambda_2 * vector_2):\n",
    "    print('Vector 2 correct')\n",
    "if np.allclose(np.dot(B, vector_3), lambda_3 * vector_3):\n",
    "    print('Vector 3 correct')\n"
   ]
  },
  {
   "cell_type": "code",
   "execution_count": null,
   "id": "76cdcc61-5edc-4cd3-9316-ae67e1c0ec6d",
   "metadata": {},
   "outputs": [],
   "source": []
  }
 ],
 "metadata": {
  "kernelspec": {
   "display_name": "Python 3 (ipykernel)",
   "language": "python",
   "name": "python3"
  },
  "language_info": {
   "codemirror_mode": {
    "name": "ipython",
    "version": 3
   },
   "file_extension": ".py",
   "mimetype": "text/x-python",
   "name": "python",
   "nbconvert_exporter": "python",
   "pygments_lexer": "ipython3",
   "version": "3.12.5"
  }
 },
 "nbformat": 4,
 "nbformat_minor": 5
}
